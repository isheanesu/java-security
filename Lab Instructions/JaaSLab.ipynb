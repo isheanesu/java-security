{
 "cells": [
  {
   "cell_type": "markdown",
   "metadata": {},
   "source": [
    "In this Lab Exercise, you create a Desktop/Console application that implements authentication and authorization using the Java Security API."
   ]
  },
  {
   "cell_type": "markdown",
   "metadata": {},
   "source": [
    "When using JAAS in an application, several APIs are involved:\n",
    "\n",
    "CallbackHandler: Used for gathering user credentials and optionally provided when creating the LoginContext\n",
    "Configuration: Responsible for loading LoginModule implementations and can be optionally provided at LoginContext creation\n",
    "LoginModule: Effectively used for authenticating users\n",
    "We'll use the default implementation for the Configuration API and provide our own implementations for the CallbackHandler and the LoginModule APIs."
   ]
  }
 ],
 "metadata": {
  "language_info": {
   "name": "python"
  },
  "orig_nbformat": 4
 },
 "nbformat": 4,
 "nbformat_minor": 2
}
