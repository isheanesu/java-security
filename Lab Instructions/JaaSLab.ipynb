{
 "cells": [
  {
   "cell_type": "markdown",
   "metadata": {},
   "source": [
    "In this Lab Exercise, you create a Desktop/Console application that implements authentication and authorization using the Java Security API."
   ]
  },
  {
   "cell_type": "markdown",
   "metadata": {},
   "source": [
    "When using JAAS in an application, several APIs are involved:\\\n",
    "\\\n",
    "**CallbackHandler:** Used for gathering user credentials and optionally provided when creating the LoginContext\\\n",
    "**Configuration:** Responsible for loading LoginModule implementations and can be optionally provided at LoginContext creation\\\n",
    "**LoginModule:** Effectively used for authenticating users\\\n",
    "\\\n",
    "You are supposed to provide an implementation for the CallbackHandler and LoginModule.\\\n",
    "You can implement a custom configuration but for this lab we use the default configuration.\\"
   ]
  }
 ],
 "metadata": {
  "language_info": {
   "name": "python"
  },
  "orig_nbformat": 4
 },
 "nbformat": 4,
 "nbformat_minor": 2
}
